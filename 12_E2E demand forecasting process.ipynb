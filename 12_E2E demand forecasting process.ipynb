{
  "nbformat": 4,
  "nbformat_minor": 0,
  "metadata": {
    "kernelspec": {
      "display_name": "Python 3",
      "language": "python",
      "name": "python3"
    },
    "language_info": {
      "codemirror_mode": {
        "name": "ipython",
        "version": 3
      },
      "file_extension": ".py",
      "mimetype": "text/x-python",
      "name": "python",
      "nbconvert_exporter": "python",
      "pygments_lexer": "ipython3",
      "version": "3.8.8"
    },
    "colab": {
      "name": "12_E2E demand forecasting process.ipynb",
      "provenance": []
    }
  },
  "cells": [
    {
      "cell_type": "markdown",
      "metadata": {
        "id": "QYjNN0XG1xkR"
      },
      "source": [
        "HSE, Applied Time Series Forecasitng , Winter 2024-25\n",
        "\n",
        "<font color=\"green\"> Lesson #12: E2E demand forecasting process</font>\n",
        "\n",
        "<span style=\"color:black; font-size: 12pt\"></span>\n",
        "\n",
        "Alexey Romanenko,\n",
        "<font color=\"blue\">alexromsput@gmail.com</font>"
      ]
    },
    {
      "cell_type": "markdown",
      "metadata": {
        "id": "0bEXtbW_19Tx"
      },
      "source": [
        "**Key words:**\n",
        "    - Demand Restoration, alerting system, hierarchical forecasting,\n",
        "\n",
        "**Your feedback:**  please provide you feedback  <a href=\"https://forms.gle/bEV5iwmTqdM9rUoy8\"> here </a>"
      ]
    },
    {
      "cell_type": "markdown",
      "source": [
        "# E2E forecasting process overview\n",
        "\n",
        "see here https://github.com/aromanenko/ATSF/tree/main/e2e%20demand%20forecasting%20pipeline"
      ],
      "metadata": {
        "id": "_buJE99aOA2B"
      }
    },
    {
      "cell_type": "markdown",
      "source": [
        "# Conclusion\n",
        " - Data preprocessing and forecast post-processing are very valuable steps in e2e forecasting system\n",
        " - Demand Restoration steps is similar to nan-data preprocessing, it should be simple but effective\n",
        " - Autocorrection step can be performed by robust and simple methods"
      ],
      "metadata": {
        "id": "5V--p1pWxPKB"
      }
    },
    {
      "cell_type": "markdown",
      "source": [
        "# Self-check questions\n",
        " - Why sales volume can differ from demand volume?\n",
        " - What is assortment matrix in Retail/CPG companies? What purposes is it used in e2e forecasting system for?\n",
        " - Is it valuable to user both classic ts and ml algorithms for demand forecating?\n"
      ],
      "metadata": {
        "id": "yr7ISINaKsK_"
      }
    }
  ]
}
